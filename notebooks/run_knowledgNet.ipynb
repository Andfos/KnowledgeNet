{
 "cells": [
  {
   "cell_type": "code",
   "execution_count": null,
   "id": "149867e0",
   "metadata": {},
   "outputs": [],
   "source": [
    "# Import modules.\n",
    "import sys\n",
    "import pandas as pd\n",
    "sys.path.append(\"../knowledge-net\")\n",
    "import utils\n",
    "from networks import KnowledgeNet\n",
    "from training import train_network, prune_network, check_network, report_metrics"
   ]
  },
  {
   "cell_type": "code",
   "execution_count": null,
   "id": "0b3e85d1",
   "metadata": {},
   "outputs": [],
   "source": [
    "# Import environment variables from configuration file.\n",
    "from config import *"
   ]
  },
  {
   "cell_type": "code",
   "execution_count": null,
   "id": "2e3be5fe",
   "metadata": {},
   "outputs": [],
   "source": [
    "# Get the data.\n",
    "if BUILD_MODE:\n",
    "    X, y = utils.generate_data(\n",
    "            FUNC, NOISE_SD, DATA_SIZE, INPUT_DIM, LOWER, UPPER)\n",
    "else:\n",
    "    X, y, classes = temp.get_data(DATA_FILE, OUTPUT_ACT)"
   ]
  },
  {
   "cell_type": "code",
   "execution_count": null,
   "id": "b6d57a8d",
   "metadata": {},
   "outputs": [],
   "source": [
    "# Load the data into Tensorflow datasets.\n",
    "train_dataset, test_dataset = utils.create_dataset(X, y, TEST_SIZE, BATCH_SIZE)"
   ]
  },
  {
   "cell_type": "code",
   "execution_count": null,
   "id": "0638ef34",
   "metadata": {},
   "outputs": [],
   "source": [
    "# Load the ontology.                                                               \n",
    "feature_id_map = utils.load_mapping(f\"{EXP_DIR}/data/features.tsv\")                        \n",
    "\n",
    "dG, root, term_size_map, term_direct_feature_map = utils.load_ontology(                    \n",
    "        f\"{EXP_DIR}/Data/ontology.tsv\",                                            \n",
    "        feature_id_map)"
   ]
  },
  {
   "cell_type": "code",
   "execution_count": null,
   "id": "11ad965e",
   "metadata": {},
   "outputs": [],
   "source": [
    "# Set the optimizer and load the model.                                                             \n",
    "optimizer = tf.keras.optimizers.Adam(                                           \n",
    "    learning_rate=0.001,                                                        \n",
    "    beta_1=0.9,                                                                 \n",
    "    beta_2=0.999,                                                               \n",
    "    epsilon=1e-07,                                                              \n",
    "    amsgrad=False,                                                              \n",
    "    name='Adam')\n",
    "\n",
    "model = KnowledgeNet(                                                              \n",
    "        output_dim = OUTPUT_DIM,                                                   \n",
    "        output_act = OUTPUT_ACT,                                                   \n",
    "        module_act = MODULE_ACT,                                                \n",
    "        input_act = INPUT_ACT,                                                  \n",
    "        root=root,                                                              \n",
    "        dG=dG,                                                                  \n",
    "        module_neurons_func=MODULE_NEURONS_FUNC,                                \n",
    "        input_dim=INPUT_DIM,                                                    \n",
    "        term_direct_input_map=term_direct_feature_map,                            \n",
    "        mod_size_map=term_size_map,                                             \n",
    "        initializer=WEIGHTS_INIT,                                               \n",
    "        input_regularizer=INPUT_REG,                                            \n",
    "        module_regularizer=MODULE_REG,                                          \n",
    "        loss_fn=LOSS_FN,                                                        \n",
    "        aux=AUX,                                                                \n",
    "        batchnorm=BATCHNORM)\n",
    "\n",
    "model.compile(optimizer=optimizer, loss=LOSS_FN)                                \n",
    "model.build(input_shape = (BATCH_SIZE, INPUT_DIM))                              \n",
    "model.summary()"
   ]
  },
  {
   "cell_type": "code",
   "execution_count": null,
   "id": "74fc4e51",
   "metadata": {},
   "outputs": [],
   "source": [
    "# Train the model for a specified number of training epochs.\n",
    "train_network(                                                      \n",
    "        model, train_dataset, epochs=TRAIN_EPOCHS, optimizer=optimizer, classification=CLASSIFICATION)"
   ]
  },
  {
   "cell_type": "code",
   "execution_count": null,
   "id": "87e399c5",
   "metadata": {},
   "outputs": [],
   "source": [
    "# Retrieve performance on train and test datasets after training model. \n",
    "train_loss, train_acc, test_loss, test_acc, sparsity, drop_cols, dG_prune = report_metrics(\n",
    "        model, train_dataset, test_dataset, optimizer, CLASSIFICATION)\n",
    "print(f\"Train loss: {train_loss:.3f}\\tTrain accuracy: {train_acc}\")\n",
    "print(f\"Test loss: {test_loss:.3f}\\tTest accuracy: {test_acc}\")\n",
    "print(f\"Sparsity: {sparsity:.3f}\")"
   ]
  },
  {
   "cell_type": "code",
   "execution_count": null,
   "id": "aa80adba",
   "metadata": {},
   "outputs": [],
   "source": [
    "# Prune the network weights.                                                   \n",
    "prune_network(\n",
    "    model, train_dataset, prune_epochs=1,                            \n",
    "    gl_pen1=GL_PEN1, l0_pen1=L0_PEN1,                                \n",
    "    gl_pen2=GL_PEN2, l0_pen2=L0_PEN2)"
   ]
  },
  {
   "cell_type": "code",
   "execution_count": null,
   "id": "f3c07014",
   "metadata": {},
   "outputs": [],
   "source": [
    "# Update the graphs and retrain if the ontology has changed.   \n",
    "if (dG_current.number_of_nodes() != dG_prune.number_of_nodes()              \n",
    "    or dG_current.number_of_edges() != dG_prune.number_of_edges()):         \n",
    "        update = True                                                       \n",
    "        retrain = True                                                                                                                               "
   ]
  },
  {
   "cell_type": "code",
   "execution_count": null,
   "id": "15c1352f",
   "metadata": {},
   "outputs": [],
   "source": []
  }
 ],
 "metadata": {
  "kernelspec": {
   "display_name": "Python 3 (ipykernel)",
   "language": "python",
   "name": "python3"
  },
  "language_info": {
   "codemirror_mode": {
    "name": "ipython",
    "version": 3
   },
   "file_extension": ".py",
   "mimetype": "text/x-python",
   "name": "python",
   "nbconvert_exporter": "python",
   "pygments_lexer": "ipython3",
   "version": "3.8.16"
  }
 },
 "nbformat": 4,
 "nbformat_minor": 5
}
