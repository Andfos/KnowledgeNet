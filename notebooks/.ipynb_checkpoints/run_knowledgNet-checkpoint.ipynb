{
 "cells": [
  {
   "cell_type": "code",
   "execution_count": null,
   "id": "149867e0",
   "metadata": {},
   "outputs": [],
   "source": [
    "import sys\n",
    "import pandas as pd\n",
    "sys.path.append(\"../src\")\n",
    "import temp\n",
    "import utils\n",
    "from networks import KnowledgeNet\n",
    "from training import train_network, prune_network, check_network"
   ]
  },
  {
   "cell_type": "code",
   "execution_count": null,
   "id": "0b3e85d1",
   "metadata": {},
   "outputs": [],
   "source": [
    "from config import *\n",
    "TRAIN_EPOCHS = 20"
   ]
  },
  {
   "cell_type": "code",
   "execution_count": null,
   "id": "2e3be5fe",
   "metadata": {},
   "outputs": [],
   "source": [
    "# Get the data.\n",
    "if BUILD_MODE:\n",
    "    X, y, classes = temp.get_dummy_data(FUNC, NOISE_SD)\n",
    "else:\n",
    "    X, y, classes = temp.get_data(DATA_FILE, OUTPUT_ACT)"
   ]
  },
  {
   "cell_type": "code",
   "execution_count": null,
   "id": "b6d57a8d",
   "metadata": {},
   "outputs": [],
   "source": [
    "X_train, X_test, y_train, y_test, train_dataset = temp.create_dataset(X, y, TEST_SIZE, BATCH_SIZE)"
   ]
  },
  {
   "cell_type": "code",
   "execution_count": null,
   "id": "0638ef34",
   "metadata": {},
   "outputs": [],
   "source": [
    "# Load the ontology.                                                               \n",
    "input_id_map = utils.load_mapping(f\"{EXP_DIR}/data/features.tsv\")                        \n",
    "dG, root, term_size_map, term_direct_input_map = utils.load_ontology(                    \n",
    "        f\"{EXP_DIR}/Data/ontology.txt\",                                            \n",
    "        input_id_map)"
   ]
  },
  {
   "cell_type": "code",
   "execution_count": null,
   "id": "11ad965e",
   "metadata": {},
   "outputs": [],
   "source": [
    "# Set the optimizer and load the model.                                                             \n",
    "optimizer = tf.keras.optimizers.Adam(                                           \n",
    "    learning_rate=0.001,                                                        \n",
    "    beta_1=0.9,                                                                 \n",
    "    beta_2=0.999,                                                               \n",
    "    epsilon=1e-07,                                                              \n",
    "    amsgrad=False,                                                              \n",
    "    name='Adam')\n",
    "\n",
    "model = KnowledgeNet(                                                              \n",
    "        output_dim = OUTPUT_DIM,                                                   \n",
    "        output_act = OUTPUT_ACT,                                                   \n",
    "        module_act = MODULE_ACT,                                                \n",
    "        input_act = INPUT_ACT,                                                  \n",
    "        root=root,                                                              \n",
    "        dG=dG,                                                                  \n",
    "        module_neurons_func=MODULE_NEURONS_FUNC,                                \n",
    "        input_dim=INPUT_DIM,                                                    \n",
    "        term_direct_input_map=term_direct_input_map,                            \n",
    "        mod_size_map=term_size_map,                                             \n",
    "        initializer=WEIGHTS_INIT,                                               \n",
    "        input_regularizer=INPUT_REG,                                            \n",
    "        module_regularizer=MODULE_REG,                                          \n",
    "        loss_fn=LOSS_FN,                                                        \n",
    "        aux=AUX,                                                                \n",
    "        batchnorm=BATCHNORM)\n",
    "\n",
    "model.compile(optimizer=optimizer, loss=LOSS_FN)                                \n",
    "model.build(input_shape = (BATCH_SIZE, INPUT_DIM))                              \n",
    "model.summary()"
   ]
  },
  {
   "cell_type": "code",
   "execution_count": null,
   "id": "74fc4e51",
   "metadata": {},
   "outputs": [],
   "source": [
    "# Train the model\n",
    "model = train_network(                                                      \n",
    "        model,                                                              \n",
    "        train_dataset,                                                      \n",
    "        train_epochs=TRAIN_EPOCHS,                                          \n",
    "        optimizer=optimizer,                                                \n",
    "        classification=CLASSIFICATION)"
   ]
  },
  {
   "cell_type": "code",
   "execution_count": null,
   "id": "87e399c5",
   "metadata": {},
   "outputs": [],
   "source": [
    "# Retrieve performance on train and test datasets after training model. \n",
    "train_metric, test_metric = temp.report_metrics(model, X_train, X_test, y_train, y_test, CLASSIFICATION)\n",
    "print(f\"Train metric: {train_metric}  |  Test metric: {test_metric}\")"
   ]
  },
  {
   "cell_type": "code",
   "execution_count": null,
   "id": "de26d3ab",
   "metadata": {},
   "outputs": [],
   "source": [
    "dG_current = model.dG\n",
    "drop_cols = dict([(mod, []) for mod in model.mod_size_map.keys()]) "
   ]
  },
  {
   "cell_type": "code",
   "execution_count": null,
   "id": "aa80adba",
   "metadata": {},
   "outputs": [],
   "source": [
    "# Prune the network weights.                                                   \n",
    "prune_network(\n",
    "    model, X_train, y_train, train_dataset, optimizer=optimizer,                              \n",
    "    gl_pen1=GL_PEN1, l0_pen1=L0_PEN1,                                \n",
    "    gl_pen2=GL_PEN2, l0_pen2=L0_PEN2,                                \n",
    "    prune_epochs=1)"
   ]
  },
  {
   "cell_type": "code",
   "execution_count": null,
   "id": "acb7ac0d",
   "metadata": {},
   "outputs": [],
   "source": [
    "# Check the network structure.                                                 \n",
    "model, dG_prune, drop_cols, sparsity = check_network(                          \n",
    "        model, dG_current, drop_cols)\n",
    "print(sparsity)"
   ]
  },
  {
   "cell_type": "code",
   "execution_count": null,
   "id": "f3c07014",
   "metadata": {},
   "outputs": [],
   "source": [
    "retrain = False\n",
    "# Update the graphs and retrain (if RETRAIN) if the ontology has changed.   \n",
    "if (dG_current.number_of_nodes() != dG_prune.number_of_nodes()              \n",
    "    or dG_current.number_of_edges() != dG_prune.number_of_edges()):         \n",
    "        update = True                                                       \n",
    "        retrain = True                                                      \n",
    "                                                                                \n",
    "# Retrain the model (if UPDATE is True and RETRAIN is enabled).             \n",
    "if retrain:                                                                 \n",
    "    model = train_network(                                                  \n",
    "            model,                                                          \n",
    "            train_dataset,                                                  \n",
    "            train_epochs=RETRAIN_EPOCHS,                                    \n",
    "            optimizer=optimizer,                                            \n",
    "            classification=CLASSIFICATION)"
   ]
  },
  {
   "cell_type": "code",
   "execution_count": null,
   "id": "15c1352f",
   "metadata": {},
   "outputs": [],
   "source": []
  }
 ],
 "metadata": {
  "kernelspec": {
   "display_name": "Python 3 (ipykernel)",
   "language": "python",
   "name": "python3"
  },
  "language_info": {
   "codemirror_mode": {
    "name": "ipython",
    "version": 3
   },
   "file_extension": ".py",
   "mimetype": "text/x-python",
   "name": "python",
   "nbconvert_exporter": "python",
   "pygments_lexer": "ipython3",
   "version": "3.8.16"
  }
 },
 "nbformat": 4,
 "nbformat_minor": 5
}
